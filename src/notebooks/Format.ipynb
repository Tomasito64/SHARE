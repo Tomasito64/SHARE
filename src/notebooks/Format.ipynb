{
 "cells": [
  {
   "cell_type": "code",
   "execution_count": 1,
   "metadata": {},
   "outputs": [
    {
     "name": "stdout",
     "output_type": "stream",
     "text": [
      "Concaténation terminée et enregistrée en tant que 'concatenation.csv'.\n"
     ]
    }
   ],
   "source": [
    "import pandas as pd\n",
    "import os\n",
    "\n",
    "# Spécifiez le chemin du dossier contenant les fichiers .sav\n",
    "dossier_sav = r\"C:\\Users\\thoma\\My Drive\\Google Drive\\BID\\SHARE\\All data Share\\Wtest\"\n",
    "\n",
    "# Spécifiez le chemin du dossier où vous souhaitez enregistrer le fichier CSV résultant\n",
    "dossier_csv = r\"C:\\Users\\thoma\\My Drive\\Google Drive\\BID\\SHARE\\All data Share\\Wtest\"\n",
    "\n",
    "# Liste pour stocker les DataFrames chargés à partir des fichiers .sav\n",
    "dfs = []\n",
    "\n",
    "# Boucle à travers tous les fichiers .sav dans le dossier\n",
    "for fichier in os.listdir(dossier_sav):\n",
    "    if fichier.endswith('.sav'):\n",
    "        chemin_fichier = os.path.join(dossier_sav, fichier)\n",
    "\n",
    "        # Chargez le fichier .sav dans un DataFrame\n",
    "        df = pd.read_spss(chemin_fichier)\n",
    "\n",
    "        # Ajoutez une colonne pour le mergeid en utilisant le nom du fichier (ou ajustez selon vos besoins)\n",
    "        df['mergeid'] = fichier.split('.')[0]\n",
    "\n",
    "        # Ajoutez le DataFrame à la liste\n",
    "        dfs.append(df)\n",
    "\n",
    "# Concaténez tous les DataFrames en un seul\n",
    "df_concatene = pd.concat(dfs, ignore_index=True)\n",
    "\n",
    "# Enregistrez le DataFrame concaténé au format CSV\n",
    "df_concatene.to_csv(os.path.join(dossier_csv, 'concatenation.csv'), index=False)\n",
    "\n",
    "print(\"Concaténation terminée et enregistrée en tant que 'concatenation.csv'.\")\n",
    "\n"
   ]
  },
  {
   "cell_type": "markdown",
   "metadata": {},
   "source": []
  },
  {
   "cell_type": "code",
   "execution_count": 1,
   "metadata": {},
   "outputs": [
    {
     "name": "stderr",
     "output_type": "stream",
     "text": [
      "C:\\Users\\thoma\\AppData\\Local\\Temp\\ipykernel_23024\\1585082499.py:9: DtypeWarning: Columns (6,7,8,9,10,11,12,13,14,15,16,17,18,19,20,21,22,23,24,25,26,27,28,29,30,31,32,33,34,35,36,37,38,39,40,41,42,43,44,45,46,47,48,49,50,51,52,53,54,55,56,57,58,59,60,61,62,63,64,65,66,67,68,69,70,71,72,73,74,75,76,77,78,80,81,82,83,84,85,86,87,88,89,90,91,92,93,94,95,96,97,98,99,100,102,103,104,105,106,107,108,109,110,111,112,113,115,117,118,119,120,121,122,123,124,125,126,127,128,129,130,131,132,133,134,135,136,137,138,139,140,141,142,143,144,145,146,147,148,149,150,151,152,153,154,155,156,157,158,159,160,161,162,163,164,165,166,167,168,169,170,171,172,173,174,175,176,177,178,179,180,181,182,183,184,185,186,187,188,189,190,191,192,193,194,195,196,197,198,199,200,201,202,203,204,205,206,207,208,209,210,211,212,213,214,215,216,217,218,219,220,221,222,223,224,225,226,227,228,229,230,231,232,233,234,235,236,237,238,239,240,241,242,243,244,245,246) have mixed types. Specify dtype option on import or set low_memory=False.\n",
      "  df = pd.read_csv(r\"C:\\Users\\thoma\\My Drive\\Google Drive\\BID\\SHARE\\All data Share\\Wtest\\concatenation.csv\")\n"
     ]
    },
    {
     "name": "stdout",
     "output_type": "stream",
     "text": [
      "               casp       maxgrip       wspeed      phrandom\n",
      "count  18501.000000  27877.000000  3185.000000  30419.000000\n",
      "mean      37.122804     34.104387     0.674197      1.499195\n",
      "std        6.163050     12.329789     0.316225      0.500008\n",
      "min       12.000000      1.000000     0.125000      1.000000\n",
      "25%       33.000000     25.000000     0.461255      1.000000\n",
      "50%       38.000000     32.000000     0.634518      1.000000\n",
      "75%       42.000000     43.000000     0.833333      2.000000\n",
      "max       48.000000     92.000000     4.000000      2.000000\n"
     ]
    }
   ],
   "source": [
    "import pandas as pd\n",
    "\n",
    "# # Chargez votre dataset (remplacez \"nom_du_fichier.csv\" par le nom de votre fichier)\n",
    "# votre_data = pd.read_csv(r\"D:\\W1\\concatenation.csv\")\n",
    "\n",
    "# # Affichez les cinq premières lignes\n",
    "# print(votre_data.head())\n",
    "\n",
    "df = pd.read_csv(r\"C:\\Users\\thoma\\My Drive\\Google Drive\\BID\\SHARE\\All data Share\\Wtest\\concatenation.csv\")\n",
    "summary_df = df.describe()\n",
    "print(summary_df)"
   ]
  }
 ],
 "metadata": {
  "kernelspec": {
   "display_name": "Python 3",
   "language": "python",
   "name": "python3"
  },
  "language_info": {
   "codemirror_mode": {
    "name": "ipython",
    "version": 3
   },
   "file_extension": ".py",
   "mimetype": "text/x-python",
   "name": "python",
   "nbconvert_exporter": "python",
   "pygments_lexer": "ipython3",
   "version": "3.10.4"
  }
 },
 "nbformat": 4,
 "nbformat_minor": 2
}
