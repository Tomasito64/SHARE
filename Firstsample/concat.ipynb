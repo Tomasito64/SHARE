{
 "cells": [
  {
   "cell_type": "code",
   "execution_count": 1,
   "metadata": {},
   "outputs": [
    {
     "name": "stderr",
     "output_type": "stream",
     "text": [
      "C:\\Users\\thoma\\AppData\\Local\\Temp\\ipykernel_23096\\511317956.py:21: FutureWarning: The behavior of pd.concat with len(keys) != len(objs) is deprecated. In a future version this will raise instead of truncating to the smaller of the two sequences\n",
      "  concatenated_df = pd.concat(dataframes, keys='mergeid')\n"
     ]
    }
   ],
   "source": [
    "import pandas as pd\n",
    "import os\n",
    "\n",
    "# Directory containing your .dta files\n",
    "directory = r'C:\\data\\sharew1'\n",
    "\n",
    "# List to hold DataFrames\n",
    "dataframes = []\n",
    "\n",
    "# Loop through each file in the directory\n",
    "for filename in os.listdir(directory):\n",
    "    if filename.endswith('.dta'):\n",
    "        # Construct full file path\n",
    "        filepath = os.path.join(directory, filename)\n",
    "        # Read the .dta file\n",
    "        df = pd.read_stata(filepath)\n",
    "        # Append the DataFrame to the list\n",
    "        dataframes.append(df)\n",
    "\n",
    "# Concatenate all DataFrames using 'mergeid'\n",
    "concatenated_df = pd.concat(dataframes, keys='mergeid')\n",
    "\n",
    "# Convert the concatenated DataFrame to a compressed CSV file using gzip format\n",
    "concatenated_df.to_csv('concatenated_file.csv.gz', index=False, compression='gzip')\n",
    "\n"
   ]
  }
 ],
 "metadata": {
  "kernelspec": {
   "display_name": "Python 3",
   "language": "python",
   "name": "python3"
  },
  "language_info": {
   "codemirror_mode": {
    "name": "ipython",
    "version": 3
   },
   "file_extension": ".py",
   "mimetype": "text/x-python",
   "name": "python",
   "nbconvert_exporter": "python",
   "pygments_lexer": "ipython3",
   "version": "3.10.4"
  }
 },
 "nbformat": 4,
 "nbformat_minor": 2
}
